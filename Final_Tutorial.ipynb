{
 "cells": [
  {
   "cell_type": "markdown",
   "metadata": {
    "id": "OCB5CMA4rUHs"
   },
   "source": [
    "# <center>CMSC320 Final Tutorial</center>\n",
    "# <center>Analysis of Amazon's Top 50 Bestselling Books</center>\n",
    "## <center>Supriya Maddineni, Lizi Jordan, Irene Hnatiw</center>"
   ]
  },
  {
   "cell_type": "markdown",
   "metadata": {
    "id": "GNxRaS7HtRm9"
   },
   "source": [
    "# **Introduction**\n",
    "**Books are an important part of our lives, as reading continues to be a popular leisure activity for many Americans. On average, Americans tend to read [12 to 13 books each year](https://www.bustle.com/p/how-many-books-did-the-average-american-read-in-the-last-year-this-new-study-may-surprise-you-8837851), choosing from millions of options. Given that more than a million books are published each year, it’s interesting to ask which books are we actually choosing to read. With this project, we aim to understand the reading habits of Americans and what types of books constitute the list of Top 50 Bestselling Books, specifically among those bought on Amazon.** \n",
    "\n",
    "<img src=\"https://cdn.elearningindustry.com/wp-content/uploads/2016/05/top-10-books-every-college-student-read-1024x640.jpeg\" alt=\"Italian Trulli\">\n",
    "<br><br>\n",
    "\n",
    "# **Background about the Dataset**\n",
    "Whether a book makes it onto a bestselling list is often influenced by the audience, number of sales, and the time that has passed since publication. Additionally, it's worth mentioning that most authors who make it to these lists have prior publications and don't see much success on the first book. It's important to note that some books are boosted to popularity through movie adaptations and celebrity endorsements. If you'd like to read more about the science behind a bestselling books, please check [this](https://blogs.biomedcentral.com/bmcblog/2018/04/06/science-behind-makes-bestselling-book/) out!\n",
    "\n",
    "To learn more about readers' preferences, we will be using Kaggle's [Amazon's Top 50 Bestselling Dataset](https://www.kaggle.com/sootersaalu/amazon-top-50-bestselling-books-2009-2019), which was created based on the total sales and popularity of the books. The top 50 books from 2009 to 2019 were compiled to create a total of 550 records, and the genre and some additional information was determined through scraping [Goodreads](goodreads.com). The characteristics that the dataset describes are:\n",
    "* Name: the title of the bestselling book\n",
    "* Author: the author of the book\n",
    "* Rating: the average rating that users gave the book on a scale of 1.0 - 5.0\n",
    "* User Reviews: the number of total reviews that book received\n",
    "* Price: the price of the bestselling book\n",
    "* Year: the year that the book was on the bestselling list in years between [2009, 2019]\n",
    "* Genre: the genre of the book [Fiction, Non-Fiction]\n",
    "<br>\n",
    "\n",
    "**Throughout this tutorial, we will attempt to uncover potential trends between the book ratings, genres, year and price.**\n",
    "\n",
    "# **Python Libraries Used**\n",
    "Some of the libraries that we will be using are:\n",
    "* [Pandas](https://pandas.pydata.org/pandas-docs/stable/user_guide/10min.html)\n",
    "* [Numpy](https://pandas.pydata.org/pandas-docs/stable/reference/api/pandas.DataFrame.to_numpy.html)\n",
    "* [Seaborn](https://seaborn.pydata.org/)\n",
    "* [Matplotlib](https://pandas.pydata.org/pandas-docs/stable/user_guide/visualization.html)\n",
    "* [Scikit-Learn](https://scikit-learn.org/stable/)\n",
    "* [SciPy](https://docs.scipy.org/doc/scipy/reference/)\n",
    "\n",
    "If you're not familiar with any of the libraries we're using, please feel free to explore any of the tutorials/documentation linked above."
   ]
  },
  {
   "cell_type": "markdown",
   "metadata": {
    "id": "RvpqriWn6byX"
   },
   "source": [
    "# **Data Curation and Parsing**"
   ]
  },
  {
   "cell_type": "code",
   "execution_count": 72,
   "metadata": {
    "id": "80-t1wC5qEFz"
   },
   "outputs": [],
   "source": [
    "import pandas as pd\n",
    "import numpy as np\n",
    "import seaborn as sns\n",
    "import matplotlib.pyplot as plt\n",
    "import re\n",
    "from scipy import stats\n",
    "from sklearn.preprocessing import StandardScaler\n",
    "from sklearn import preprocessing \n",
    "from sklearn.model_selection import train_test_split\n",
    "from sklearn.svm import SVC\n",
    "from sklearn.metrics import accuracy_score, f1_score\n",
    "from sklearn.linear_model import LogisticRegression\n",
    "from sklearn.tree import DecisionTreeClassifier\n",
    "from sklearn.naive_bayes import GaussianNB\n",
    "from sklearn.neighbors import KNeighborsClassifier\n",
    "from sklearn import svm\n",
    "from sklearn.discriminant_analysis import LinearDiscriminantAnalysis\n",
    "from sklearn.feature_extraction.text import TfidfVectorizer\n",
    "from sklearn.model_selection import cross_val_score\n",
    "from sklearn.linear_model import LinearRegression"
   ]
  },
  {
   "cell_type": "markdown",
   "metadata": {
    "id": "KVR78Q1Lxcp7"
   },
   "source": [
    "We've downloaded our Amazon Top 50 Bestselling Books from 2009-2019 dataset from Kaggle at https://www.kaggle.com/sootersaalu/amazon-top-50-bestselling-books-2009-2019. Now, let's go ahead and load our data into a Pandas Dataframe. \n",
    "\n",
    "A [Pandas Dataframe](https://pandas.pydata.org/pandas-docs/stable/generated/pandas.DataFrame.html.) is a structured table with rows and columns that allows for quicker access and analysis."
   ]
  },
  {
   "cell_type": "code",
   "execution_count": 73,
   "metadata": {
    "colab": {
     "base_uri": "https://localhost:8080/",
     "height": 204
    },
    "id": "tdsL3bzTqhSM",
    "outputId": "9a591655-1415-47d5-beb7-09f0bc1840a9"
   },
   "outputs": [
    {
     "data": {
      "text/html": [
       "<div>\n",
       "<style scoped>\n",
       "    .dataframe tbody tr th:only-of-type {\n",
       "        vertical-align: middle;\n",
       "    }\n",
       "\n",
       "    .dataframe tbody tr th {\n",
       "        vertical-align: top;\n",
       "    }\n",
       "\n",
       "    .dataframe thead th {\n",
       "        text-align: right;\n",
       "    }\n",
       "</style>\n",
       "<table border=\"1\" class=\"dataframe\">\n",
       "  <thead>\n",
       "    <tr style=\"text-align: right;\">\n",
       "      <th></th>\n",
       "      <th>Name</th>\n",
       "      <th>Author</th>\n",
       "      <th>Rating</th>\n",
       "      <th>User Reviews</th>\n",
       "      <th>Price</th>\n",
       "      <th>Year</th>\n",
       "      <th>Genre</th>\n",
       "    </tr>\n",
       "  </thead>\n",
       "  <tbody>\n",
       "    <tr>\n",
       "      <th>0</th>\n",
       "      <td>10-Day Green Smoothie Cleanse</td>\n",
       "      <td>JJ Smith</td>\n",
       "      <td>4.7</td>\n",
       "      <td>17350</td>\n",
       "      <td>8</td>\n",
       "      <td>2016</td>\n",
       "      <td>Non Fiction</td>\n",
       "    </tr>\n",
       "    <tr>\n",
       "      <th>1</th>\n",
       "      <td>11/22/63: A Novel</td>\n",
       "      <td>Stephen King</td>\n",
       "      <td>4.6</td>\n",
       "      <td>2052</td>\n",
       "      <td>22</td>\n",
       "      <td>2011</td>\n",
       "      <td>Fiction</td>\n",
       "    </tr>\n",
       "    <tr>\n",
       "      <th>2</th>\n",
       "      <td>12 Rules for Life: An Antidote to Chaos</td>\n",
       "      <td>Jordan B. Peterson</td>\n",
       "      <td>4.7</td>\n",
       "      <td>18979</td>\n",
       "      <td>15</td>\n",
       "      <td>2018</td>\n",
       "      <td>Non Fiction</td>\n",
       "    </tr>\n",
       "    <tr>\n",
       "      <th>3</th>\n",
       "      <td>1984 (Signet Classics)</td>\n",
       "      <td>George Orwell</td>\n",
       "      <td>4.7</td>\n",
       "      <td>21424</td>\n",
       "      <td>6</td>\n",
       "      <td>2017</td>\n",
       "      <td>Fiction</td>\n",
       "    </tr>\n",
       "    <tr>\n",
       "      <th>4</th>\n",
       "      <td>5,000 Awesome Facts (About Everything!) (Natio...</td>\n",
       "      <td>National Geographic Kids</td>\n",
       "      <td>4.8</td>\n",
       "      <td>7665</td>\n",
       "      <td>12</td>\n",
       "      <td>2019</td>\n",
       "      <td>Non Fiction</td>\n",
       "    </tr>\n",
       "  </tbody>\n",
       "</table>\n",
       "</div>"
      ],
      "text/plain": [
       "                                                Name  \\\n",
       "0                      10-Day Green Smoothie Cleanse   \n",
       "1                                  11/22/63: A Novel   \n",
       "2            12 Rules for Life: An Antidote to Chaos   \n",
       "3                             1984 (Signet Classics)   \n",
       "4  5,000 Awesome Facts (About Everything!) (Natio...   \n",
       "\n",
       "                     Author  Rating  User Reviews  Price  Year        Genre  \n",
       "0                  JJ Smith     4.7         17350      8  2016  Non Fiction  \n",
       "1              Stephen King     4.6          2052     22  2011      Fiction  \n",
       "2        Jordan B. Peterson     4.7         18979     15  2018  Non Fiction  \n",
       "3             George Orwell     4.7         21424      6  2017      Fiction  \n",
       "4  National Geographic Kids     4.8          7665     12  2019  Non Fiction  "
      ]
     },
     "execution_count": 73,
     "metadata": {},
     "output_type": "execute_result"
    }
   ],
   "source": [
    "# Let's load the data into our Pandas Dataframe\n",
    "df = pd.read_csv('bestsellers with categories.csv')\n",
    "df.head()"
   ]
  },
  {
   "cell_type": "markdown",
   "metadata": {
    "id": "ZJte7Wb1wOLH"
   },
   "source": [
    "We can see from the data output above that we have 550 rows. Since we're looking at a span of 11 years and 50 bestselling books per year, we should be looking at 550 records. Thus, we know that we don't have any extra, duplicate, or missing observations. Now, let's check if we have any missing values in our dataframe:"
   ]
  },
  {
   "cell_type": "code",
   "execution_count": 74,
   "metadata": {
    "colab": {
     "base_uri": "https://localhost:8080/"
    },
    "id": "EZXqRI4duNX6",
    "outputId": "ce5c5b2b-cb0b-4f98-81ca-1532d7580645"
   },
   "outputs": [
    {
     "data": {
      "text/plain": [
       "Name            0\n",
       "Author          0\n",
       "Rating          0\n",
       "User Reviews    0\n",
       "Price           0\n",
       "Year            0\n",
       "Genre           0\n",
       "dtype: int64"
      ]
     },
     "execution_count": 74,
     "metadata": {},
     "output_type": "execute_result"
    }
   ],
   "source": [
    "df.isnull().sum()"
   ]
  },
  {
   "cell_type": "markdown",
   "metadata": {
    "id": "HbG59e5MxHFC"
   },
   "source": [
    "Now that we know there are no missing values in our data, let's move on to some Exploratory Data Analysis"
   ]
  },
  {
   "cell_type": "markdown",
   "metadata": {
    "id": "USqRlo8LucAx"
   },
   "source": [
    "# **Preliminary Exploratory Data Analysis:**"
   ]
  },
  {
   "cell_type": "markdown",
   "metadata": {
    "id": "VIMDe7AFupUp"
   },
   "source": [
    "Let's begin by doing some preliminary data analysis. We can see how average price, average ratings, and average number of user reviews has been changing over the years 2009 - 2019."
   ]
  },
  {
   "cell_type": "code",
   "execution_count": 75,
   "metadata": {
    "colab": {
     "base_uri": "https://localhost:8080/",
     "height": 390
    },
    "id": "QxPannobulPQ",
    "outputId": "7613e745-798e-486a-b8c2-6a116d0d1ab8"
   },
   "outputs": [
    {
     "data": {
      "text/html": [
       "<div>\n",
       "<style scoped>\n",
       "    .dataframe tbody tr th:only-of-type {\n",
       "        vertical-align: middle;\n",
       "    }\n",
       "\n",
       "    .dataframe tbody tr th {\n",
       "        vertical-align: top;\n",
       "    }\n",
       "\n",
       "    .dataframe thead th {\n",
       "        text-align: right;\n",
       "    }\n",
       "</style>\n",
       "<table border=\"1\" class=\"dataframe\">\n",
       "  <thead>\n",
       "    <tr style=\"text-align: right;\">\n",
       "      <th></th>\n",
       "      <th>Year</th>\n",
       "      <th>Rating</th>\n",
       "      <th>User Reviews</th>\n",
       "      <th>Price</th>\n",
       "    </tr>\n",
       "  </thead>\n",
       "  <tbody>\n",
       "    <tr>\n",
       "      <th>0</th>\n",
       "      <td>2009</td>\n",
       "      <td>4.584</td>\n",
       "      <td>4710.12</td>\n",
       "      <td>15.40</td>\n",
       "    </tr>\n",
       "    <tr>\n",
       "      <th>1</th>\n",
       "      <td>2010</td>\n",
       "      <td>4.558</td>\n",
       "      <td>5479.62</td>\n",
       "      <td>13.48</td>\n",
       "    </tr>\n",
       "    <tr>\n",
       "      <th>2</th>\n",
       "      <td>2011</td>\n",
       "      <td>4.558</td>\n",
       "      <td>8100.82</td>\n",
       "      <td>15.10</td>\n",
       "    </tr>\n",
       "    <tr>\n",
       "      <th>3</th>\n",
       "      <td>2012</td>\n",
       "      <td>4.532</td>\n",
       "      <td>13090.92</td>\n",
       "      <td>15.30</td>\n",
       "    </tr>\n",
       "    <tr>\n",
       "      <th>4</th>\n",
       "      <td>2013</td>\n",
       "      <td>4.554</td>\n",
       "      <td>13098.14</td>\n",
       "      <td>14.60</td>\n",
       "    </tr>\n",
       "    <tr>\n",
       "      <th>5</th>\n",
       "      <td>2014</td>\n",
       "      <td>4.622</td>\n",
       "      <td>15859.94</td>\n",
       "      <td>14.64</td>\n",
       "    </tr>\n",
       "    <tr>\n",
       "      <th>6</th>\n",
       "      <td>2015</td>\n",
       "      <td>4.648</td>\n",
       "      <td>14233.38</td>\n",
       "      <td>10.42</td>\n",
       "    </tr>\n",
       "    <tr>\n",
       "      <th>7</th>\n",
       "      <td>2016</td>\n",
       "      <td>4.678</td>\n",
       "      <td>14196.00</td>\n",
       "      <td>13.18</td>\n",
       "    </tr>\n",
       "    <tr>\n",
       "      <th>8</th>\n",
       "      <td>2017</td>\n",
       "      <td>4.660</td>\n",
       "      <td>12888.40</td>\n",
       "      <td>11.38</td>\n",
       "    </tr>\n",
       "    <tr>\n",
       "      <th>9</th>\n",
       "      <td>2018</td>\n",
       "      <td>4.668</td>\n",
       "      <td>13930.42</td>\n",
       "      <td>10.52</td>\n",
       "    </tr>\n",
       "    <tr>\n",
       "      <th>10</th>\n",
       "      <td>2019</td>\n",
       "      <td>4.740</td>\n",
       "      <td>15898.34</td>\n",
       "      <td>10.08</td>\n",
       "    </tr>\n",
       "  </tbody>\n",
       "</table>\n",
       "</div>"
      ],
      "text/plain": [
       "    Year  Rating  User Reviews  Price\n",
       "0   2009   4.584       4710.12  15.40\n",
       "1   2010   4.558       5479.62  13.48\n",
       "2   2011   4.558       8100.82  15.10\n",
       "3   2012   4.532      13090.92  15.30\n",
       "4   2013   4.554      13098.14  14.60\n",
       "5   2014   4.622      15859.94  14.64\n",
       "6   2015   4.648      14233.38  10.42\n",
       "7   2016   4.678      14196.00  13.18\n",
       "8   2017   4.660      12888.40  11.38\n",
       "9   2018   4.668      13930.42  10.52\n",
       "10  2019   4.740      15898.34  10.08"
      ]
     },
     "execution_count": 75,
     "metadata": {},
     "output_type": "execute_result"
    }
   ],
   "source": [
    "# Get the averages of each variable (price, reviews, ratings) for each year in the dataset\n",
    "avg_data = df.groupby(['Year']).mean()\n",
    "avg_data = avg_data.reset_index()\n",
    "avg_data"
   ]
  },
  {
   "cell_type": "code",
   "execution_count": 76,
   "metadata": {
    "colab": {
     "base_uri": "https://localhost:8080/",
     "height": 740
    },
    "id": "jP8VsOCgvLHM",
    "outputId": "c053f6c8-d6ae-4117-9aae-1cf76348ecc8"
   },
   "outputs": [
    {
     "data": {
      "image/png": "[encoded data removed]",
      "text/plain": [
       "<Figure size 360x216 with 1 Axes>"
      ]
     },
     "metadata": {
      "needs_background": "light"
     },
     "output_type": "display_data"
    },
    {
     "name": "stdout",
     "output_type": "stream",
     "text": [
      "Slope:  -0.5274545454545038\n"
     ]
    },
    {
     "data": {
      "image/png": "[encoded data removed]",
      "text/plain": [
       "<Figure size 360x216 with 1 Axes>"
      ]
     },
     "metadata": {
      "needs_background": "light"
     },
     "output_type": "display_data"
    },
    {
     "name": "stdout",
     "output_type": "stream",
     "text": [
      "Slope:  976.8403636363427\n"
     ]
    },
    {
     "data": {
      "image/png": "[encoded data removed]",
      "text/plain": [
       "<Figure size 360x216 with 1 Axes>"
      ]
     },
     "metadata": {
      "needs_background": "light"
     },
     "output_type": "display_data"
    },
    {
     "name": "stdout",
     "output_type": "stream",
     "text": [
      "Slope:  0.01738181818181717\n"
     ]
    }
   ],
   "source": [
    "# List the variables that we are trying to explore relative to Time\n",
    "plot_vars = ['Price', 'User Reviews', 'Rating']\n",
    "\n",
    "for var in plot_vars:\n",
    "    x_vals = avg_data['Year']\n",
    "    y_vals = avg_data[var]\n",
    "    \n",
    "    # Add the best-fit regression line\n",
    "    m, b = np.polyfit(x_vals, y_vals, 1)\n",
    "    plt.figure(figsize = (5,3))\n",
    "    plt.scatter(x_vals, y_vals)\n",
    "    plt.plot(x_vals, m * x_vals + b)\n",
    "\n",
    "    # Format the graph with titles and axes titles\n",
    "    plt.title('Average Book ' + var + ' over Time')\n",
    "    plt.xlabel(\"Year\")\n",
    "    plt.ylabel(var)\n",
    "    plt.show()\n",
    "    \n",
    "    # Print the slope for each graph\n",
    "    print(\"Slope: \", m)"
   ]
  },
  {
   "cell_type": "markdown",
   "metadata": {
    "id": "uYz7Rm5-vW5E"
   },
   "source": [
    "Looking at these graphs, we can see that the average bestselling book price has been decreasing over time. Specifically, the price seems to be decreasing at a rate of $0.50 per year, which is a significant decrease. On the other hand, the average number of users reviews appears to be generally increasing over time at a rate of 976 new reviews each year. **To put this into perspective, it could be that lowered prices have made these books more accessible. Due to higher accessibility and thus, higher number of readers, we could be seeing a higher number of user reviews.** In a world dominated by technology, it might surprising to see that the popularity of reading is on the rise.\n",
    "<br><br>\n",
    "The average book rating seems to be fluctuating quite a bit, but generally increased over time. Given that the rating range is quite small (1.0 - 5.0), the 0.017 increase is quite significant. **This could be that the books and writing styles are actually getting better over time or readers are enjoying books more in 2019 than in 2009.**\n",
    "<br> <br>\n",
    "\n"
   ]
  },
  {
   "cell_type": "markdown",
   "metadata": {
    "id": "06rHgsKMx8ep"
   },
   "source": [
    "## **Advanced Exploratory Data Analysis: Variable Correlation and Differences among Fiction vs. NonFiction Books**\n"
   ]
  },
  {
   "cell_type": "markdown",
   "metadata": {
    "id": "GoBxdgqPyEKd"
   },
   "source": [
    "First, we will analyze the ratio of fiction to nonfiction books within this list in total (from 2009 to 2019) to see which genre appears more often out of the two in aggregate over the ten years. **Looking at the graph below, it's clear that readers tend to prefer non-fiction over fiction books.**"
   ]
  },
  {
   "cell_type": "code",
   "execution_count": 77,
   "metadata": {
    "colab": {
     "base_uri": "https://localhost:8080/",
     "height": 295
    },
    "id": "deBwszS7yGhO",
    "outputId": "523c1918-50cb-433b-c017-529202465fb3"
   },
   "outputs": [
    {
     "data": {
      "image/png": "[encoded data removed]",
      "text/plain": [
       "<Figure size 432x288 with 1 Axes>"
      ]
     },
     "metadata": {
      "needs_background": "light"
     },
     "output_type": "display_data"
    }
   ],
   "source": [
    "sns.countplot(x='Genre',data = df) \\\n",
    ".set_title('Countplot of Total Fiction and Non-Fiction Books')\n",
    "plt.show()"
   ]
  },
  {
   "cell_type": "markdown",
   "metadata": {
    "id": "LS4NK_ZfyPpF"
   },
   "source": [
    "We know that some of the characteristics of the bestselling books given are price, rating, and number of reviews. Given these variables, we would like to find out if there is any relationship between price and the other two variables among the two genres. Let's try to visualize these relationships through [correlation heatmaps](https://seaborn.pydata.org/generated/seaborn.heatmap.html) to see if we see any trends."
   ]
  },
  {
   "cell_type": "code",
   "execution_count": 78,
   "metadata": {
    "colab": {
     "base_uri": "https://localhost:8080/"
    },
    "id": "-UDO0sRov-T7",
    "outputId": "194afcbb-54ae-46ec-c7f7-8bc7dc66485a"
   },
   "outputs": [
    {
     "data": {
      "text/html": [
       "<div>\n",
       "<style scoped>\n",
       "    .dataframe tbody tr th:only-of-type {\n",
       "        vertical-align: middle;\n",
       "    }\n",
       "\n",
       "    .dataframe tbody tr th {\n",
       "        vertical-align: top;\n",
       "    }\n",
       "\n",
       "    .dataframe thead th {\n",
       "        text-align: right;\n",
       "    }\n",
       "</style>\n",
       "<table border=\"1\" class=\"dataframe\">\n",
       "  <thead>\n",
       "    <tr style=\"text-align: right;\">\n",
       "      <th></th>\n",
       "      <th>Name</th>\n",
       "      <th>Author</th>\n",
       "      <th>Rating</th>\n",
       "      <th>User Reviews</th>\n",
       "      <th>Price</th>\n",
       "      <th>Year</th>\n",
       "      <th>Genre</th>\n",
       "    </tr>\n",
       "  </thead>\n",
       "  <tbody>\n",
       "    <tr>\n",
       "      <th>0</th>\n",
       "      <td>10-Day Green Smoothie Cleanse</td>\n",
       "      <td>JJ Smith</td>\n",
       "      <td>4.7</td>\n",
       "      <td>17350</td>\n",
       "      <td>8</td>\n",
       "      <td>2016</td>\n",
       "      <td>Non Fiction</td>\n",
       "    </tr>\n",
       "    <tr>\n",
       "      <th>2</th>\n",
       "      <td>12 Rules for Life: An Antidote to Chaos</td>\n",
       "      <td>Jordan B. Peterson</td>\n",
       "      <td>4.7</td>\n",
       "      <td>18979</td>\n",
       "      <td>15</td>\n",
       "      <td>2018</td>\n",
       "      <td>Non Fiction</td>\n",
       "    </tr>\n",
       "    <tr>\n",
       "      <th>4</th>\n",
       "      <td>5,000 Awesome Facts (About Everything!) (Natio...</td>\n",
       "      <td>National Geographic Kids</td>\n",
       "      <td>4.8</td>\n",
       "      <td>7665</td>\n",
       "      <td>12</td>\n",
       "      <td>2019</td>\n",
       "      <td>Non Fiction</td>\n",
       "    </tr>\n",
       "    <tr>\n",
       "      <th>8</th>\n",
       "      <td>A Higher Loyalty: Truth, Lies, and Leadership</td>\n",
       "      <td>James Comey</td>\n",
       "      <td>4.7</td>\n",
       "      <td>5983</td>\n",
       "      <td>3</td>\n",
       "      <td>2018</td>\n",
       "      <td>Non Fiction</td>\n",
       "    </tr>\n",
       "    <tr>\n",
       "      <th>11</th>\n",
       "      <td>A Patriot's History of the United States: From...</td>\n",
       "      <td>Larry Schweikart</td>\n",
       "      <td>4.6</td>\n",
       "      <td>460</td>\n",
       "      <td>2</td>\n",
       "      <td>2010</td>\n",
       "      <td>Non Fiction</td>\n",
       "    </tr>\n",
       "  </tbody>\n",
       "</table>\n",
       "</div>"
      ],
      "text/plain": [
       "                                                 Name  \\\n",
       "0                       10-Day Green Smoothie Cleanse   \n",
       "2             12 Rules for Life: An Antidote to Chaos   \n",
       "4   5,000 Awesome Facts (About Everything!) (Natio...   \n",
       "8       A Higher Loyalty: Truth, Lies, and Leadership   \n",
       "11  A Patriot's History of the United States: From...   \n",
       "\n",
       "                      Author  Rating  User Reviews  Price  Year        Genre  \n",
       "0                   JJ Smith     4.7         17350      8  2016  Non Fiction  \n",
       "2         Jordan B. Peterson     4.7         18979     15  2018  Non Fiction  \n",
       "4   National Geographic Kids     4.8          7665     12  2019  Non Fiction  \n",
       "8                James Comey     4.7          5983      3  2018  Non Fiction  \n",
       "11          Larry Schweikart     4.6           460      2  2010  Non Fiction  "
      ]
     },
     "execution_count": 78,
     "metadata": {},
     "output_type": "execute_result"
    }
   ],
   "source": [
    "# Separate the data by the genres\n",
    "fiction_data = df[df['Genre'] == 'Fiction']\n",
    "non_fiction_data = df[df['Genre'] == 'Non Fiction']\n",
    "\n",
    "# Print the first few entries to make sure everything looks correct\n",
    "non_fiction_data.head(5)"
   ]
  },
  {
   "cell_type": "code",
   "execution_count": 79,
   "metadata": {},
   "outputs": [
    {
     "data": {
      "text/html": [
       "<div>\n",
       "<style scoped>\n",
       "    .dataframe tbody tr th:only-of-type {\n",
       "        vertical-align: middle;\n",
       "    }\n",
       "\n",
       "    .dataframe tbody tr th {\n",
       "        vertical-align: top;\n",
       "    }\n",
       "\n",
       "    .dataframe thead th {\n",
       "        text-align: right;\n",
       "    }\n",
       "</style>\n",
       "<table border=\"1\" class=\"dataframe\">\n",
       "  <thead>\n",
       "    <tr style=\"text-align: right;\">\n",
       "      <th></th>\n",
       "      <th>Name</th>\n",
       "      <th>Author</th>\n",
       "      <th>Rating</th>\n",
       "      <th>User Reviews</th>\n",
       "      <th>Price</th>\n",
       "      <th>Year</th>\n",
       "      <th>Genre</th>\n",
       "    </tr>\n",
       "  </thead>\n",
       "  <tbody>\n",
       "    <tr>\n",
       "      <th>1</th>\n",
       "      <td>11/22/63: A Novel</td>\n",
       "      <td>Stephen King</td>\n",
       "      <td>4.6</td>\n",
       "      <td>2052</td>\n",
       "      <td>22</td>\n",
       "      <td>2011</td>\n",
       "      <td>Fiction</td>\n",
       "    </tr>\n",
       "    <tr>\n",
       "      <th>3</th>\n",
       "      <td>1984 (Signet Classics)</td>\n",
       "      <td>George Orwell</td>\n",
       "      <td>4.7</td>\n",
       "      <td>21424</td>\n",
       "      <td>6</td>\n",
       "      <td>2017</td>\n",
       "      <td>Fiction</td>\n",
       "    </tr>\n",
       "    <tr>\n",
       "      <th>5</th>\n",
       "      <td>A Dance with Dragons (A Song of Ice and Fire)</td>\n",
       "      <td>George R. R. Martin</td>\n",
       "      <td>4.4</td>\n",
       "      <td>12643</td>\n",
       "      <td>11</td>\n",
       "      <td>2011</td>\n",
       "      <td>Fiction</td>\n",
       "    </tr>\n",
       "    <tr>\n",
       "      <th>6</th>\n",
       "      <td>A Game of Thrones / A Clash of Kings / A Storm...</td>\n",
       "      <td>George R. R. Martin</td>\n",
       "      <td>4.7</td>\n",
       "      <td>19735</td>\n",
       "      <td>30</td>\n",
       "      <td>2014</td>\n",
       "      <td>Fiction</td>\n",
       "    </tr>\n",
       "    <tr>\n",
       "      <th>7</th>\n",
       "      <td>A Gentleman in Moscow: A Novel</td>\n",
       "      <td>Amor Towles</td>\n",
       "      <td>4.7</td>\n",
       "      <td>19699</td>\n",
       "      <td>15</td>\n",
       "      <td>2017</td>\n",
       "      <td>Fiction</td>\n",
       "    </tr>\n",
       "  </tbody>\n",
       "</table>\n",
       "</div>"
      ],
      "text/plain": [
       "                                                Name               Author  \\\n",
       "1                                  11/22/63: A Novel         Stephen King   \n",
       "3                             1984 (Signet Classics)        George Orwell   \n",
       "5      A Dance with Dragons (A Song of Ice and Fire)  George R. R. Martin   \n",
       "6  A Game of Thrones / A Clash of Kings / A Storm...  George R. R. Martin   \n",
       "7                     A Gentleman in Moscow: A Novel          Amor Towles   \n",
       "\n",
       "   Rating  User Reviews  Price  Year    Genre  \n",
       "1     4.6          2052     22  2011  Fiction  \n",
       "3     4.7         21424      6  2017  Fiction  \n",
       "5     4.4         12643     11  2011  Fiction  \n",
       "6     4.7         19735     30  2014  Fiction  \n",
       "7     4.7         19699     15  2017  Fiction  "
      ]
     },
     "execution_count": 79,
     "metadata": {},
     "output_type": "execute_result"
    }
   ],
   "source": [
    "# Print the first few entries to make sure everything looks correct\n",
    "fiction_data.head(5)"
   ]
  },
  {
   "cell_type": "code",
   "execution_count": 80,
   "metadata": {
    "colab": {
     "base_uri": "https://localhost:8080/",
     "height": 269
    },
    "id": "GIEI_McCwAmH",
    "outputId": "5652708f-ecef-4233-80f1-36c461c7fa44"
   },
   "outputs": [
    {
     "data": {
      "image/png": "[encoded data removed]",
      "text/plain": [
       "<Figure size 432x288 with 2 Axes>"
      ]
     },
     "metadata": {
      "needs_background": "light"
     },
     "output_type": "display_data"
    }
   ],
   "source": [
    "# Get the correlation matrix for characteristics of fiction books\n",
    "fiction_corr = fiction_data.corr()\n",
    "\n",
    "# Visualize the matrix through a correlation heatmap\n",
    "sns.heatmap(fiction_corr)\n",
    "plt.show()"
   ]
  },
  {
   "cell_type": "code",
   "execution_count": 81,
   "metadata": {
    "colab": {
     "base_uri": "https://localhost:8080/",
     "height": 269
    },
    "id": "IqPDD0BMwPUJ",
    "outputId": "1d0fe1d1-7220-4a48-b779-167547f6414d"
   },
   "outputs": [
    {
     "data": {
      "image/png": "[encoded data removed]",
      "text/plain": [
       "<Figure size 432x288 with 2 Axes>"
      ]
     },
     "metadata": {
      "needs_background": "light"
     },
     "output_type": "display_data"
    }
   ],
   "source": [
    "# Get the correlation matrix for characteristic of nonfiction books\n",
    "non_fiction_corr = non_fiction_data.corr()\n",
    "\n",
    "# Visualize the matrix through a correlation heatmap\n",
    "sns.heatmap(non_fiction_corr)\n",
    "plt.show()"
   ]
  },
  {
   "cell_type": "markdown",
   "metadata": {
    "id": "KXCHTcoxwS2i"
   },
   "source": [
    "**Considering the heatmaps for the two genres, we don't see any reasonable correlations (all seem to be <= 0.5) between any two characteristics.** Looking at the first heatmap, we see that rating and year are most closely related in fiction books. On the other hand, the second heatmap suggests that user reviews and year have the most correlation in the nonfiction genre."
   ]
  },
  {
   "cell_type": "markdown",
   "metadata": {
    "id": "m63KvahZ_DS2"
   },
   "source": [
    "Next, we will analyze how the ratio of nonfiction to fiction books on the list has changed over time, by creating a countplot for fiction vs nonfiction for each year (2009 to 2019) to see if there is a pattern of which genre is more popular over time."
   ]
  },
  {
   "cell_type": "code",
   "execution_count": 82,
   "metadata": {
    "colab": {
     "base_uri": "https://localhost:8080/",
     "height": 295
    },
    "id": "cK-a1Hnj-8YH",
    "outputId": "710ebfde-6f3e-4608-978e-2339418aca70"
   },
   "outputs": [
    {
     "data": {
      "image/png": "[encoded data removed]",
      "text/plain": [
       "<Figure size 432x288 with 1 Axes>"
      ]
     },
     "metadata": {
      "needs_background": "light"
     },
     "output_type": "display_data"
    }
   ],
   "source": [
    "sns.countplot(x='Year',hue='Genre',data=df) \\\n",
    "  .set_title('Count of Fiction and Nonfiction Books over Time')\n",
    "  \n",
    "plt.show()"
   ]
  },
  {
   "cell_type": "markdown",
   "metadata": {
    "id": "06qE5PlWPvLS"
   },
   "source": [
    "Next, let's take a look at the average ratings for fiction vs non-fiction books over time. **We have already learned that overall there are more non-fiction than fiction books.** From the above bar graph, every year shows that there are more non-fiction books (except for 2014). Now we will look at how the average ratings for each genre change over time. "
   ]
  },
  {
   "cell_type": "code",
   "execution_count": 83,
   "metadata": {
    "colab": {
     "base_uri": "https://localhost:8080/",
     "height": 295
    },
    "id": "LINbAAP5PuMe",
    "outputId": "012a9e59-935c-4a3d-9697-7bce496d1247"
   },
   "outputs": [
    {
     "data": {
      "image/png": "[encoded data removed]",
      "text/plain": [
       "<Figure size 432x288 with 1 Axes>"
      ]
     },
     "metadata": {
      "needs_background": "light"
     },
     "output_type": "display_data"
    }
   ],
   "source": [
    "# List of years\n",
    "years =  np.unique(df['Year'])\n",
    "# empty dataframe that will store the mean data for each year for fiction and nonfiction\n",
    "mean = pd.DataFrame([], columns=['Year','Rating','Genre'])\n",
    "\n",
    "for year in years:   \n",
    "    # Creates temp dataframes that store all the entries of the specified genre and year\n",
    "    fiction_df = df.loc[df['Genre'] == 'Fiction'].loc[df['Year'] == year]\n",
    "    nonfiction_df = df.loc[df['Genre'] == 'Non Fiction'].loc[df['Year'] == year]\n",
    "\n",
    "    # Calculates the average rating for the specified year and genre\n",
    "    fiction_rating = fiction_df['Rating'].mean()\n",
    "    nonfiction_rating = nonfiction_df['Rating'].mean()\n",
    "\n",
    "    # Adds the average rating for each genre to mean, for the current year\n",
    "    mean = mean.append({'Year':year, 'Rating':nonfiction_rating, \\\n",
    "                        'Genre':'Non-Fiction'}, ignore_index = True)\n",
    "    mean = mean.append({'Year':year,'Rating':fiction_rating, \\\n",
    "                        'Genre':'Fiction'}, ignore_index = True)\n",
    "\n",
    "sns.lineplot(x='Year', y='Rating', hue='Genre', data=mean)\n",
    "plt.title('Average Ratings over time by Genre (Line)')\n",
    "plt.show()"
   ]
  },
  {
   "cell_type": "markdown",
   "metadata": {
    "id": "q6zc28LVQRL9"
   },
   "source": [
    "Earlier, we saw there was an overall increase in ratings of the top 50 books. According to this, the average ratings for both genres are increasing for the most part, which follows along with what we discovered earlier. **Additionally, it seems that fiction books seem to have higher ratings than non-fiction books, which is interesting. You would think that since non-fiction books are more popular among the top 50, that they might have higher ratings due to the popularity, but that is not the case here.**\n"
   ]
  },
  {
   "cell_type": "markdown",
   "metadata": {
    "id": "euM2cLhoEGTl"
   },
   "source": [
    "# **Bestselling Authors Analysis**"
   ]
  },
  {
   "cell_type": "markdown",
   "metadata": {
    "id": "501R54VBR-4K"
   },
   "source": [
    "Let's take a look at the top 10 most best selling authors from 2009-2019"
   ]
  },
  {
   "cell_type": "code",
   "execution_count": 84,
   "metadata": {
    "colab": {
     "base_uri": "https://localhost:8080/",
     "height": 464
    },
    "id": "SVWJhIZ8SEm9",
    "outputId": "f6224434-c601-467a-e148-427efb36ff55"
   },
   "outputs": [
    {
     "data": {
      "image/png": "[encoded data removed]",
      "text/plain": [
       "<Figure size 432x288 with 1 Axes>"
      ]
     },
     "metadata": {
      "needs_background": "light"
     },
     "output_type": "display_data"
    }
   ],
   "source": [
    "top_authors = df['Author'].value_counts(sort=True)\n",
    "top_authors = top_authors.head(10)\n",
    "top_authors.plot(kind='bar', title='Top 10 Best Selling Authors')\n",
    "plt.ylabel(\"Number of books sold from 2009-2019\")\n",
    "plt.xlabel(\"Author\")\n",
    "plt.show()"
   ]
  },
  {
   "cell_type": "code",
   "execution_count": 85,
   "metadata": {
    "colab": {
     "base_uri": "https://localhost:8080/"
    },
    "id": "c5KpWKanSFIS",
    "outputId": "3cebacad-dfc8-420e-b4a2-099557e24746"
   },
   "outputs": [
    {
     "name": "stdout",
     "output_type": "stream",
     "text": [
      "Example of Popular Series\n",
      "                                                  Name       Author\n",
      "42          Cabin Fever (Diary of a Wimpy Kid, Book 6)  Jeff Kinney\n",
      "71             Diary of a Wimpy Kid: Hard Luck, Book 8  Jeff Kinney\n",
      "72       Diary of a Wimpy Kid: The Last Straw (Book 3)  Jeff Kinney\n",
      "73                 Diary of a Wimpy Kid: The Long Haul  Jeff Kinney\n",
      "80   Dog Days (Diary of a Wimpy Kid, Book 4) (Volum...  Jeff Kinney\n",
      "88              Double Down (Diary of a Wimpy Kid #11)  Jeff Kinney\n",
      "253              Old School (Diary of a Wimpy Kid #10)  Jeff Kinney\n",
      "381                                        The Getaway  Jeff Kinney\n",
      "435        The Meltdown (Diary of a Wimpy Kid Book 13)  Jeff Kinney\n",
      "468     The Third Wheel (Diary of a Wimpy Kid, Book 7)  Jeff Kinney\n",
      "474      The Ugly Truth (Diary of a Wimpy Kid, Book 5)  Jeff Kinney\n",
      "545       Wrecking Ball (Diary of a Wimpy Kid Book 14)  Jeff Kinney\n",
      "\n",
      "Example of Single Popular Book\n",
      "                                                  Name        Author\n",
      "320  The 5 Love Languages: The Secret to Love That ...  Gary Chapman\n",
      "321  The 5 Love Languages: The Secret to Love That ...  Gary Chapman\n",
      "322  The 5 Love Languages: The Secret to Love That ...  Gary Chapman\n",
      "323  The 5 Love Languages: The Secret to Love That ...  Gary Chapman\n",
      "324  The 5 Love Languages: The Secret to Love That ...  Gary Chapman\n",
      "325  The 5 Love Languages: The Secret to Love that ...  Gary Chapman\n",
      "326  The 5 Love Languages: The Secret to Love that ...  Gary Chapman\n",
      "327  The 5 Love Languages: The Secret to Love that ...  Gary Chapman\n",
      "328  The 5 Love Languages: The Secret to Love that ...  Gary Chapman\n",
      "329  The 5 Love Languages: The Secret to Love that ...  Gary Chapman\n",
      "374  The Five Love Languages: How to Express Heartf...  Gary Chapman\n"
     ]
    }
   ],
   "source": [
    "# Top 10 authors information\n",
    "a1 = df.loc[df['Author'] == 'Jeff Kinney']\n",
    "a2 = df.loc[df['Author'] == 'Suzanne Collins']\n",
    "a3 = df.loc[df['Author'] == 'Gary Chapman']\n",
    "a4 = df.loc[df['Author'] == 'Rick Riordan']\n",
    "a5 = df.loc[df['Author'] == 'American Psychological Association']\n",
    "a6 = df.loc[df['Author'] == 'Dr. Seuss']\n",
    "a7 = df.loc[df['Author'] == 'Gallup']\n",
    "a8 = df.loc[df['Author'] == 'Rob Elliott']\n",
    "a9 = df.loc[df['Author'] == 'Stephen R. Covey']\n",
    "a10 = df.loc[df['Author'] == 'Eric Carle']\n",
    "\n",
    "print('Example of Popular Series')\n",
    "print(a1[['Name','Author']])\n",
    "print('\\nExample of Single Popular Book')\n",
    "print(a3[['Name','Author']])"
   ]
  },
  {
   "cell_type": "markdown",
   "metadata": {
    "id": "TVZDg0q9TsOA"
   },
   "source": [
    "After taking a look at the top 10 best selling authors, we can immediately see some reasoning behind their popularity. After taking a look at the entries, most of the authors fall into two cases. \n",
    "**The first one includes authors that wrote an extremely famous book that never lost popularity. Therefore the author has one book that has been in the top-50 for multiple years.** The authors that fall into this include Eric Carle (The very hungry Caterpillar), Gary Chapman (The 5 Love Languages), The American Psychology Association, Dr. Seuss (Oh, the Places You'll Go!), Gallup, Rob Elliott, who had two famous books that made it in the top 50 multiple times, and Stephen Covey. \n",
    "\n",
    "**The other case is where authors write a popular series. In this case there tends to be a different book each year.** Additionally, the books are sold in sets and sometimes those sets are also in the top 50. Some authors that fall into this case include Suzanne Collins, Jeff Kinney, and Rick Riordan. \n",
    "\n",
    "One other interesting observation from this is that all of the authors stuck to one genre. **In other words, there was no author who had different books that were different genres.**\n",
    "\n",
    "Printed above are examples of each case mentioned. Jeff Kinney is printed first to demonstrate when authors write popular series. After that, Gary Chapman demonstrates when one book is in the top charts for multiple years. "
   ]
  },
  {
   "cell_type": "markdown",
   "metadata": {
    "id": "qDVXwOOtEqDb"
   },
   "source": [
    "# **Comparing Rating of Books to Number of Reviews**\n",
    "\n",
    "It is possible that the higher the rating of a book is, the more reviews it has (or vice versa) because better books may have more readers and hence more reviews. Let's see if there is a connection between the number of reviews and the ratings of the books."
   ]
  },
  {
   "cell_type": "code",
   "execution_count": 86,
   "metadata": {
    "colab": {
     "base_uri": "https://localhost:8080/",
     "height": 350
    },
    "id": "4dA4SKMmE8H6",
    "outputId": "846b6976-84d5-4e6e-b7b6-ada6a5bef686"
   },
   "outputs": [
    {
     "data": {
      "image/png": "[encoded data removed]",
      "text/plain": [
       "<Figure size 504x360 with 1 Axes>"
      ]
     },
     "metadata": {
      "needs_background": "light"
     },
     "output_type": "display_data"
    }
   ],
   "source": [
    "# List our x and y variables\n",
    "y_vals = df['User Reviews']\n",
    "x_vals = df['Rating']\n",
    "    \n",
    "# Plot the points on scatterplot\n",
    "plt.figure(figsize = (7,5))\n",
    "plt.scatter(x_vals, y_vals)\n",
    "\n",
    "# Format the graph with titles and axes titles\n",
    "plt.title('Rating of Book vs. Number of Reviews')\n",
    "plt.xlabel(\"Rating\")\n",
    "plt.ylabel('Number of Reviews')\n",
    "plt.show()"
   ]
  },
  {
   "cell_type": "markdown",
   "metadata": {
    "id": "08OU385UHe6N"
   },
   "source": [
    "Based on this scatter plot, there does seem to be a general trend. **As expected it seems that the books with higher ratings tend to have more books with a higher number of reviews. On the other hand, it seems that regardless of the rating, even though higher ratings have books with more reviews than others, they still have a ton of books with fewer reviews as well.** Additionally, there seem to be quite a few outliers in the graph, which may lead people to believe that this trend is not very strong."
   ]
  },
  {
   "cell_type": "markdown",
   "metadata": {
    "id": "Fq0yxNnh7nmD"
   },
   "source": [
    "# **Hypothesis Testing**"
   ]
  },
  {
   "cell_type": "markdown",
   "metadata": {
    "id": "TBUAgUNDIv8L"
   },
   "source": [
    "Now we will conduct [hypothesis testing](https://www.statisticshowto.com/probability-and-statistics/hypothesis-testing/), we want to know how the number of reviews trends over time. Our null hypothesis is that the total number of reviews has stayed the same over the past 10 years.  To test this hypothesis, we will use an independent t-test to compare the mean number of reviews over the first 5 years (2009-2013), compared to the mean number of reviews over the last five years (2014-2019), and see if there is a significant statistical difference. "
   ]
  },
  {
   "cell_type": "code",
   "execution_count": 87,
   "metadata": {
    "colab": {
     "base_uri": "https://localhost:8080/"
    },
    "id": "o1mDW1pePC39",
    "outputId": "6dbb76b0-c12a-411b-b9d8-1a910ace821e"
   },
   "outputs": [
    {
     "data": {
      "text/plain": [
       "Ttest_indResult(statistic=-3.273368672572762, pvalue=0.009630742349505367)"
      ]
     },
     "execution_count": 87,
     "metadata": {},
     "output_type": "execute_result"
    }
   ],
   "source": [
    "# Define the range of years on the bestselling books data\n",
    "reviews = {2009:0,2010:0,2011:0,2012:0,2013:0,\n",
    "           2014:0,2015:0,2016:0,2017:0,2018:0,2019:0}\n",
    "\n",
    "\n",
    "for index,row in df.iterrows():\n",
    "    for key in reviews:\n",
    "        if row['Year'] == key:\n",
    "            reviews[key] = reviews[key] + row['User Reviews']\n",
    "\n",
    "a = []\n",
    "b = []\n",
    "\n",
    "# Separate the review data by year\n",
    "for key in reviews:\n",
    "    if key <= 2013:\n",
    "        a.append(reviews[key])\n",
    "    else:\n",
    "        b.append(reviews[key])\n",
    "    \n",
    "# Perform the T-test and output results\n",
    "result = stats.ttest_ind(a,b)   \n",
    "result "
   ]
  },
  {
   "cell_type": "markdown",
   "metadata": {
    "id": "8anFkNV880-P"
   },
   "source": [
    "If we evaluate this at a 5% significance level, we can reject the null hypothesis given the T-value of -3.27 and because p-value (0.0096) is less than 0.05. This means that the mean number of reviews over the first five years, is much smaller than the mean number of reviews in the latter 6 years. **This implies possibly that more people started buying books off of Amazon, or that more people simply became comfortable with the platform and leaving reviews. This observation could also imply that more people are reading books over time.**\n",
    "\n",
    "The increase in number of reviews is also supported by the Number of Reviews vs. Year graph from the Preliminary Exploratory Data Analysis section."
   ]
  },
  {
   "cell_type": "markdown",
   "metadata": {
    "id": "Z57_keyNL6Ih"
   },
   "source": [
    "Let's try another hypothesis test to see if the mean price of fiction books is equal to the mean price of non-fiction books"
   ]
  },
  {
   "cell_type": "code",
   "execution_count": 88,
   "metadata": {
    "colab": {
     "base_uri": "https://localhost:8080/"
    },
    "id": "F2gtGQ2WMM0v",
    "outputId": "b4206f23-c7a3-4020-e403-0687acb97958"
   },
   "outputs": [
    {
     "data": {
      "text/plain": [
       "Ttest_indResult(statistic=4.351608076818746, pvalue=1.612435071812073e-05)"
      ]
     },
     "execution_count": 88,
     "metadata": {},
     "output_type": "execute_result"
    }
   ],
   "source": [
    "# Separate the data into two separate samples (nonfiction vs fiction)\n",
    "fiction_data = df[df['Genre'] == 'Fiction']\n",
    "fiction_data_prices = fiction_data['Price']\n",
    "\n",
    "non_fiction_data = df[df['Genre'] == 'Non Fiction']\n",
    "nonfiction_data_prices = non_fiction_data['Price']\n",
    "\n",
    "result = stats.ttest_ind(nonfiction_data_prices, fiction_data_prices)\n",
    "result"
   ]
  },
  {
   "cell_type": "markdown",
   "metadata": {
    "id": "dCQJt9VKNF1z"
   },
   "source": [
    "If we evaluate this at a 5% significance level, we cannot reject the null hypothesis given the T-value of 4.35 and because p-value (1.612) is greater than 0.05. This means that the mean price of fiction books is equal to the mean price of nonfiction books. **This suggests that there isn't really a difference in pricing between the genres. Thus, there isn't really a greater profit for authors by writing in a certain genre.**"
   ]
  },
  {
   "cell_type": "markdown",
   "metadata": {
    "id": "A-QEvl7n_RRK"
   },
   "source": [
    "# **Predicting the Genre of Bestselling Books**"
   ]
  },
  {
   "cell_type": "markdown",
   "metadata": {
    "id": "pJ029mNyV5NM"
   },
   "source": [
    "Next we will take a look at if we can possibly identify if a book is fiction or non-fiction based on its price, rating, year, etc. by using a classifier. We used multiple different classifiers to try to predict the genre. All classifier have different strengths, so this will tell us which classifiers are able to predict genre better. \n",
    "\n",
    "You can find more information and learn more about the classifiers we are using [here](https://scikit-learn.org/stable/supervised_learning.html)"
   ]
  },
  {
   "cell_type": "code",
   "execution_count": 89,
   "metadata": {
    "id": "PRLJXWDTstPl"
   },
   "outputs": [],
   "source": [
    "df_copy = df.copy()"
   ]
  },
  {
   "cell_type": "code",
   "execution_count": 90,
   "metadata": {
    "id": "_N2rxD8_rz8q"
   },
   "outputs": [],
   "source": [
    "def set_x():\n",
    "    X = df_copy.drop(columns=['Name','Author','Genre']) # Data we are using to guess genre, we are not using author or genre\n",
    "    text = df_copy.Name.apply(lambda x: re.sub('[^A-z\\s]','',x).lower()) \n",
    "    \n",
    "    # Convert titles to a matrix of TF-IDF features.\n",
    "    converter = TfidfVectorizer(max_features=2000,max_df=0.6,min_df=1)\n",
    "    coded = converter.fit_transform(text).toarray()\n",
    "    \n",
    "    s = StandardScaler()\n",
    "    x = np.concatenate((coded,X),axis=1)\n",
    "    x = s.fit_transform(x)\n",
    "    \n",
    "    return x\n",
    "\n",
    "def set_y():\n",
    "    y = df_copy.Genre # Data we are guessing\n",
    "    genre_to_binary = preprocessing.LabelEncoder() \n",
    "    y = genre_to_binary.fit_transform(y)\n",
    "    \n",
    "    return y"
   ]
  },
  {
   "cell_type": "code",
   "execution_count": 91,
   "metadata": {
    "id": "VwEETvmZszZh"
   },
   "outputs": [],
   "source": [
    "x = set_x()\n",
    "y = set_y()"
   ]
  },
  {
   "cell_type": "markdown",
   "metadata": {
    "id": "Za-nGIcI9I6A"
   },
   "source": [
    "**While trying to predict genre, it was determined that the name of the book had a bigger impact on the success of guessing genre than we thought, but it is a little difficult to store the data of a title and run tests on it.** \n",
    "\n",
    "To implement the title of the books, we stripped the strings of any non-letter characters, and used a TfidVectorizer to convert it to a numeric value. After this, we added the name field back to the dataset we were testing."
   ]
  },
  {
   "cell_type": "code",
   "execution_count": 92,
   "metadata": {
    "id": "gkBLN82cs8I1"
   },
   "outputs": [],
   "source": [
    "# Splits data up into test and train sets\n",
    "x_train,x_test,y_train,y_test = train_test_split(x,y, test_size=0.2)"
   ]
  },
  {
   "cell_type": "code",
   "execution_count": 93,
   "metadata": {
    "id": "QPrdmzR_tBI6"
   },
   "outputs": [],
   "source": [
    "# SVC Classifier\n",
    "svc_clf = SVC(C=1.0,gamma='auto')\n",
    "\n",
    "# Logistic Regression Classifier\n",
    "lr_clf = LogisticRegression()\n",
    "\n",
    "# Decision Tree Classifier\n",
    "dt_clf = DecisionTreeClassifier()\n",
    "\n",
    "# Gaussian NV Classifier\n",
    "gnb_clf = GaussianNB()\n",
    "\n",
    "# K-Nearest Neighbors Classifier\n",
    "knn_clf = KNeighborsClassifier(n_neighbors=20)\n",
    "\n",
    "# Non-linear SVC Classifier\n",
    "nlsvm_clf = svm.NuSVC(gamma='auto')\n",
    "\n",
    "# Linear Discriminant Analysis Classifier\n",
    "lda_clf = LinearDiscriminantAnalysis()"
   ]
  },
  {
   "cell_type": "code",
   "execution_count": 94,
   "metadata": {
    "id": "OHpW5QhOtC3z"
   },
   "outputs": [],
   "source": [
    "classifiers = [svc_clf, knn_clf, lr_clf, dt_clf, gnb_clf, nlsvm_clf, lda_clf] \n",
    "classifier_names = ['SVC', 'K-Nearest Neighbors', 'Logistic Regression', \n",
    "                    'Decision Tree', 'Guassian NB', 'Non-Linear SVM', \n",
    "                    'Linear Discriminant Analysis'] \n",
    "\n",
    "classifier_results = pd.DataFrame([],columns=['Classifier','Accuracy','F1 Score','CV_Accuracy'])"
   ]
  },
  {
   "cell_type": "code",
   "execution_count": 95,
   "metadata": {
    "colab": {
     "base_uri": "https://localhost:8080/",
     "height": 266
    },
    "id": "uEtlvEbOtKsD",
    "outputId": "d951c7ee-cc6d-4eca-d71b-5a3458a53e6f"
   },
   "outputs": [
    {
     "data": {
      "text/html": [
       "<div>\n",
       "<style scoped>\n",
       "    .dataframe tbody tr th:only-of-type {\n",
       "        vertical-align: middle;\n",
       "    }\n",
       "\n",
       "    .dataframe tbody tr th {\n",
       "        vertical-align: top;\n",
       "    }\n",
       "\n",
       "    .dataframe thead th {\n",
       "        text-align: right;\n",
       "    }\n",
       "</style>\n",
       "<table border=\"1\" class=\"dataframe\">\n",
       "  <thead>\n",
       "    <tr style=\"text-align: right;\">\n",
       "      <th></th>\n",
       "      <th>Classifier</th>\n",
       "      <th>Accuracy</th>\n",
       "      <th>F1 Score</th>\n",
       "      <th>CV_Accuracy</th>\n",
       "    </tr>\n",
       "  </thead>\n",
       "  <tbody>\n",
       "    <tr>\n",
       "      <th>0</th>\n",
       "      <td>SVC</td>\n",
       "      <td>0.927273</td>\n",
       "      <td>0.944444</td>\n",
       "      <td>0.854545</td>\n",
       "    </tr>\n",
       "    <tr>\n",
       "      <th>5</th>\n",
       "      <td>Non-Linear SVM</td>\n",
       "      <td>0.927273</td>\n",
       "      <td>0.944444</td>\n",
       "      <td>0.879545</td>\n",
       "    </tr>\n",
       "    <tr>\n",
       "      <th>2</th>\n",
       "      <td>Logistic Regression</td>\n",
       "      <td>0.918182</td>\n",
       "      <td>0.934307</td>\n",
       "      <td>0.918182</td>\n",
       "    </tr>\n",
       "    <tr>\n",
       "      <th>4</th>\n",
       "      <td>Guassian NB</td>\n",
       "      <td>0.909091</td>\n",
       "      <td>0.929577</td>\n",
       "      <td>0.886364</td>\n",
       "    </tr>\n",
       "    <tr>\n",
       "      <th>3</th>\n",
       "      <td>Decision Tree</td>\n",
       "      <td>0.900000</td>\n",
       "      <td>0.923077</td>\n",
       "      <td>0.879545</td>\n",
       "    </tr>\n",
       "    <tr>\n",
       "      <th>6</th>\n",
       "      <td>Linear Discriminant Analysis</td>\n",
       "      <td>0.790909</td>\n",
       "      <td>0.818898</td>\n",
       "      <td>0.743182</td>\n",
       "    </tr>\n",
       "    <tr>\n",
       "      <th>1</th>\n",
       "      <td>K-Nearest Neighbors</td>\n",
       "      <td>0.490909</td>\n",
       "      <td>0.363636</td>\n",
       "      <td>0.581818</td>\n",
       "    </tr>\n",
       "  </tbody>\n",
       "</table>\n",
       "</div>"
      ],
      "text/plain": [
       "                     Classifier  Accuracy  F1 Score  CV_Accuracy\n",
       "0                           SVC  0.927273  0.944444     0.854545\n",
       "5                Non-Linear SVM  0.927273  0.944444     0.879545\n",
       "2           Logistic Regression  0.918182  0.934307     0.918182\n",
       "4                   Guassian NB  0.909091  0.929577     0.886364\n",
       "3                 Decision Tree  0.900000  0.923077     0.879545\n",
       "6  Linear Discriminant Analysis  0.790909  0.818898     0.743182\n",
       "1           K-Nearest Neighbors  0.490909  0.363636     0.581818"
      ]
     },
     "execution_count": 95,
     "metadata": {},
     "output_type": "execute_result"
    }
   ],
   "source": [
    "for index, classifier in enumerate(classifiers):\n",
    "    classifier.fit(x_train,y_train)\n",
    "    y_pred = classifier.predict(x_test)\n",
    "    accuracy = accuracy_score(y_test,y_pred)\n",
    "    f1_accuracy = f1_score(y_test,y_pred)\n",
    "    cv_accuracy = cross_val_score(classifier, x_train, y_train, scoring='accuracy', cv=10)\n",
    "    classifier_results.loc[index] = [classifier_names[index],accuracy, f1_accuracy, cv_accuracy.mean()]\n",
    "    \n",
    "classifier_results = classifier_results.sort_values(by = ['Accuracy'],ascending=False)\n",
    "classifier_results"
   ]
  },
  {
   "cell_type": "markdown",
   "metadata": {
    "id": "wnoJ3rxQtQmN"
   },
   "source": [
    "**Based on all of the classifiers, it seems that the Logistic Regression Classifier is the most accurate.** It had an accuracy score of 95%, an F1 score of .95, and CV_Accuracy of .915. This was the highest of all of the classifiers. On the other hand, the LDA algorithm was the least effective with accuracy, f1, and cv scores of .73, .756, and .736, respectively. "
   ]
  },
  {
   "cell_type": "markdown",
   "metadata": {
    "id": "HaNUvrjaDU17"
   },
   "source": [
    "# **Predicting Price of Bestselling Books**"
   ]
  },
  {
   "cell_type": "markdown",
   "metadata": {
    "id": "BVeBlcQ9HgOC"
   },
   "source": [
    "Now that we've seen it's possible to predict Genre from the information given, let's see if it's possible to predict the Price given Genre, User Reviews, and Rating. In the previous prediction section we could use classifiers and logistic regression since we only had two groups (fiction vs nonfiction). Since Price isn't a categorical variable here, we can use Linear Regression to see if Price can be predicted. \n",
    "\n",
    "You can find out more about Scikit-Learn's Linear Regression model [here](https://scikit-learn.org/stable/modules/generated/sklearn.linear_model.LinearRegression.html)"
   ]
  },
  {
   "cell_type": "code",
   "execution_count": 96,
   "metadata": {
    "id": "ErF5MX4btMJI"
   },
   "outputs": [],
   "source": [
    "# Instantiate our linear regression model\n",
    "reg = LinearRegression()"
   ]
  },
  {
   "cell_type": "code",
   "execution_count": 97,
   "metadata": {
    "id": "ffrjypjdDbg-"
   },
   "outputs": [],
   "source": [
    "data = df.copy()\n",
    "# Iterate through the dataframe and change genre to a binary variable\n",
    "for i, row in df.iterrows():\n",
    "    if df.at[i,'Genre'] == 'Non Fiction':\n",
    "        binary_genre = 0\n",
    "    elif df.at[i,'Genre'] == 'Fiction':\n",
    "        binary_genre = 1\n",
    "    data.at[i, 'Genre'] = binary_genre"
   ]
  },
  {
   "cell_type": "code",
   "execution_count": 98,
   "metadata": {
    "id": "E2T13AUjDfke"
   },
   "outputs": [],
   "source": [
    "# Separate our data into predictor variables and the data to be predicted\n",
    "x = data[['Rating', 'User Reviews', 'Year', 'Genre']]\n",
    "y = data[['Price']]"
   ]
  },
  {
   "cell_type": "code",
   "execution_count": 99,
   "metadata": {
    "id": "MONe3MJPDgy_"
   },
   "outputs": [],
   "source": [
    "# Separate each group into training and testing data sets\n",
    "x_train,x_test,y_train,y_test = train_test_split(x,y, test_size=0.1)"
   ]
  },
  {
   "cell_type": "code",
   "execution_count": 100,
   "metadata": {
    "colab": {
     "base_uri": "https://localhost:8080/"
    },
    "id": "ZCXBO5MCDiUw",
    "outputId": "096abcc3-e51a-412b-ca41-5e77fd0aa7c4"
   },
   "outputs": [
    {
     "data": {
      "text/plain": [
       "0.02516247482631584"
      ]
     },
     "execution_count": 100,
     "metadata": {},
     "output_type": "execute_result"
    }
   ],
   "source": [
    "# Fit the Regression Model and check the score to see performance\n",
    "reg.fit(x_train, y_train)\n",
    "accuracy_score = reg.score(x_test, y_test)\n",
    "accuracy_score"
   ]
  },
  {
   "cell_type": "markdown",
   "metadata": {
    "id": "rvFBppwFEbKy"
   },
   "source": [
    "As we can see, the linear regression model score is quite low at anywhere from -2% to ~3% accuracy. This suggests that **we cannot use Genre, User Reviews, and Rating to predict the Price of a bestselling book.** Sometimes the accuracy score is negative, and this is ok! Although the R^2 is bounded by 1.0, it does not have a lower bound. The negative score just tells us that the model can sometimes be much worse than random guessing. Furthermore, this low R^2 score makes sense since we saw earlier that price does not have a strong correlation with any of the other variables.\n",
    "<br><br>\n",
    "**In context, price may be difficult to predict, as it is up to the discretion of the author and the publishing company. Since a standard price is often set before a book is released, it makes sense that there's no reliance or correlation with the number of user reviews and ratings.**"
   ]
  },
  {
   "cell_type": "markdown",
   "metadata": {
    "id": "yu2Ff8ann6s-"
   },
   "source": [
    "# **Conclusion**\n",
    "**After analyzing the top 50 rated books on Amazon from 2009 to 2019, we have come away with several meaningful conclusions. We found that nonfiction books have consistently outrated fiction books  over the last ten years. Furthermore, we found that the number of reviews from year to year has been steadily increasing, which most likely indicates an increased familiarity with Amazon for buying and reviewing books. By using classifiers, we were able to observe that the price of a top rated book could not be predicted clearly, since the user ratings don't set the price of a book generally.** \n",
    "\n",
    "**These analyses can be very meaningful when looked at in the right context. For publishing houses, this information can be extremely helpful for making decisions on what types of books to publish in terms of what would financially be most successful. The demonstrated increased in using Amazon to buy and review books is an indicator that Amazon is a great marketplace on which to sell books.**"
   ]
  },
  {
   "cell_type": "code",
   "execution_count": null,
   "metadata": {
    "id": "emg_okCl_q8r"
   },
   "outputs": [],
   "source": []
  }
 ],
 "metadata": {
  "colab": {
   "collapsed_sections": [],
   "name": "Final_Tutorial.ipynb",
   "provenance": []
  },
  "kernelspec": {
   "display_name": "Python 3",
   "language": "python",
   "name": "python3"
  },
  "language_info": {
   "codemirror_mode": {
    "name": "ipython",
    "version": 3
   },
   "file_extension": ".py",
   "mimetype": "text/x-python",
   "name": "python",
   "nbconvert_exporter": "python",
   "pygments_lexer": "ipython3",
   "version": "3.8.3"
  }
 },
 "nbformat": 4,
 "nbformat_minor": 1
}
